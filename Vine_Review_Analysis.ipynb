{
  "nbformat": 4,
  "nbformat_minor": 0,
  "metadata": {
    "colab": {
      "name": "Vine_Review_Analysis",
      "provenance": [],
      "collapsed_sections": []
    },
    "kernelspec": {
      "name": "python3",
      "display_name": "Python 3"
    },
    "language_info": {
      "name": "python"
    }
  },
  "cells": [
    {
      "cell_type": "code",
      "metadata": {
        "colab": {
          "base_uri": "https://localhost:8080/"
        },
        "id": "t534k1HrQgmE",
        "outputId": "23d7c4f0-5e20-4923-823e-59bb9b999e18"
      },
      "source": [
        "import os\n",
        "# Find the latest version of spark 2.0  from http://www-us.apache.org/dist/spark/ and enter as the spark version\n",
        "# For example:\n",
        "# spark_version = 'spark-3.0.0'\n",
        "spark_version = 'spark-3.0.2'\n",
        "os.environ['SPARK_VERSION']=spark_version\n",
        "\n",
        "# Install Spark and Java\n",
        "!apt-get update\n",
        "!apt-get install openjdk-11-jdk-headless -qq > /dev/null\n",
        "!wget -q http://www-us.apache.org/dist/spark/$SPARK_VERSION/$SPARK_VERSION-bin-hadoop2.7.tgz\n",
        "!tar xf $SPARK_VERSION-bin-hadoop2.7.tgz\n",
        "!pip install -q findspark\n",
        "\n",
        "# Set Environment Variables\n",
        "import os\n",
        "os.environ[\"JAVA_HOME\"] = \"/usr/lib/jvm/java-11-openjdk-amd64\"\n",
        "os.environ[\"SPARK_HOME\"] = f\"/content/{spark_version}-bin-hadoop2.7\"\n",
        "\n",
        "# Start a SparkSession\n",
        "import findspark\n",
        "findspark.init()"
      ],
      "execution_count": 1,
      "outputs": [
        {
          "output_type": "stream",
          "text": [
            "Get:1 https://cloud.r-project.org/bin/linux/ubuntu bionic-cran40/ InRelease [3,626 B]\n",
            "Ign:2 https://developer.download.nvidia.com/compute/cuda/repos/ubuntu1804/x86_64  InRelease\n",
            "Get:3 http://security.ubuntu.com/ubuntu bionic-security InRelease [88.7 kB]\n",
            "Get:4 http://ppa.launchpad.net/c2d4u.team/c2d4u4.0+/ubuntu bionic InRelease [15.9 kB]\n",
            "Hit:5 http://archive.ubuntu.com/ubuntu bionic InRelease\n",
            "Ign:6 https://developer.download.nvidia.com/compute/machine-learning/repos/ubuntu1804/x86_64  InRelease\n",
            "Get:7 https://developer.download.nvidia.com/compute/cuda/repos/ubuntu1804/x86_64  Release [697 B]\n",
            "Hit:8 https://developer.download.nvidia.com/compute/machine-learning/repos/ubuntu1804/x86_64  Release\n",
            "Get:9 https://developer.download.nvidia.com/compute/cuda/repos/ubuntu1804/x86_64  Release.gpg [836 B]\n",
            "Get:10 http://archive.ubuntu.com/ubuntu bionic-updates InRelease [88.7 kB]\n",
            "Hit:11 http://ppa.launchpad.net/cran/libgit2/ubuntu bionic InRelease\n",
            "Get:12 http://archive.ubuntu.com/ubuntu bionic-backports InRelease [74.6 kB]\n",
            "Hit:13 http://ppa.launchpad.net/deadsnakes/ppa/ubuntu bionic InRelease\n",
            "Hit:14 http://ppa.launchpad.net/graphics-drivers/ppa/ubuntu bionic InRelease\n",
            "Ign:16 https://developer.download.nvidia.com/compute/cuda/repos/ubuntu1804/x86_64  Packages\n",
            "Get:16 https://developer.download.nvidia.com/compute/cuda/repos/ubuntu1804/x86_64  Packages [741 kB]\n",
            "Get:17 http://ppa.launchpad.net/c2d4u.team/c2d4u4.0+/ubuntu bionic/main Sources [1,756 kB]\n",
            "Get:18 http://security.ubuntu.com/ubuntu bionic-security/main amd64 Packages [2,116 kB]\n",
            "Get:19 http://ppa.launchpad.net/c2d4u.team/c2d4u4.0+/ubuntu bionic/main amd64 Packages [899 kB]\n",
            "Get:20 http://archive.ubuntu.com/ubuntu bionic-updates/main amd64 Packages [2,546 kB]\n",
            "Get:21 http://archive.ubuntu.com/ubuntu bionic-updates/restricted amd64 Packages [426 kB]\n",
            "Get:22 http://archive.ubuntu.com/ubuntu bionic-updates/multiverse amd64 Packages [31.6 kB]\n",
            "Get:23 http://archive.ubuntu.com/ubuntu bionic-updates/universe amd64 Packages [2,181 kB]\n",
            "Fetched 11.0 MB in 3s (3,345 kB/s)\n",
            "Reading package lists... Done\n"
          ],
          "name": "stdout"
        }
      ]
    },
    {
      "cell_type": "code",
      "metadata": {
        "colab": {
          "base_uri": "https://localhost:8080/"
        },
        "id": "t1C_RvGHQjVX",
        "outputId": "2e6762ad-9a93-4b34-f0f5-e1dc1a41be0a"
      },
      "source": [
        "# Download the Postgres driver that will allow Spark to interact with Postgres.\n",
        "!wget https://jdbc.postgresql.org/download/postgresql-42.2.16.jar"
      ],
      "execution_count": 2,
      "outputs": [
        {
          "output_type": "stream",
          "text": [
            "--2021-04-23 15:04:42--  https://jdbc.postgresql.org/download/postgresql-42.2.16.jar\n",
            "Resolving jdbc.postgresql.org (jdbc.postgresql.org)... 72.32.157.228, 2001:4800:3e1:1::228\n",
            "Connecting to jdbc.postgresql.org (jdbc.postgresql.org)|72.32.157.228|:443... connected.\n",
            "HTTP request sent, awaiting response... 200 OK\n",
            "Length: 1002883 (979K) [application/java-archive]\n",
            "Saving to: ‘postgresql-42.2.16.jar’\n",
            "\n",
            "postgresql-42.2.16. 100%[===================>] 979.38K  5.81MB/s    in 0.2s    \n",
            "\n",
            "2021-04-23 15:04:42 (5.81 MB/s) - ‘postgresql-42.2.16.jar’ saved [1002883/1002883]\n",
            "\n"
          ],
          "name": "stdout"
        }
      ]
    },
    {
      "cell_type": "code",
      "metadata": {
        "id": "SzaSBkGLQvaR"
      },
      "source": [
        "from pyspark.sql import SparkSession\n",
        "spark = SparkSession.builder.appName(\"BigData-Challenge\").config(\"spark.driver.extraClassPath\",\"/content/postgresql-42.2.16.jar\").getOrCreate()"
      ],
      "execution_count": 3,
      "outputs": []
    },
    {
      "cell_type": "code",
      "metadata": {
        "colab": {
          "base_uri": "https://localhost:8080/"
        },
        "id": "9NyrMgaXQxZv",
        "outputId": "993e7910-5b76-45dd-a6aa-028b92c07240"
      },
      "source": [
        "from pyspark import SparkFiles\n",
        "url = \"https://s3.amazonaws.com/amazon-reviews-pds/tsv/amazon_reviews_us_Music_v1_00.tsv.gz\"\n",
        "spark.sparkContext.addFile(url)\n",
        "df = spark.read.option(\"encoding\", \"UTF-8\").csv(SparkFiles.get(\"\"), sep=\"\\t\", header=True, inferSchema=True)\n",
        "df.show()"
      ],
      "execution_count": 4,
      "outputs": [
        {
          "output_type": "stream",
          "text": [
            "+-----------+-----------+--------------+----------+--------------+--------------------+----------------+-----------+-------------+-----------+----+-----------------+--------------------+--------------------+-----------+\n",
            "|marketplace|customer_id|     review_id|product_id|product_parent|       product_title|product_category|star_rating|helpful_votes|total_votes|vine|verified_purchase|     review_headline|         review_body|review_date|\n",
            "+-----------+-----------+--------------+----------+--------------+--------------------+----------------+-----------+-------------+-----------+----+-----------------+--------------------+--------------------+-----------+\n",
            "|         US|   10140119|R3LI5TRP3YIDQL|B00TXH4OLC|     384427924|Whatever's for Us...|           Music|          5|            0|          0|   N|                Y|          Five Stars|Love this CD alon...| 2015-08-31|\n",
            "|         US|   27664622|R3LGC3EKEG84PX|B00B6QXN6U|     831769051|Same Trailer Diff...|           Music|          5|            0|          0|   N|                Y|A new fave in our...|This is the album...| 2015-08-31|\n",
            "|         US|   45946560| R9PYL3OYH55QY|B001GCZXW6|      14067376| Soaring (Jazz Club)|           Music|          5|            0|          1|   N|                Y|          Five Stars|  Excellent / thanks| 2015-08-31|\n",
            "|         US|   15146326|R3PWBAWUS4NT0Q|B000003EK6|     566295619|     CARIBBEAN PARTY|           Music|          3|            0|          0|   N|                Y|         Three Stars|Nice variety of c...| 2015-08-31|\n",
            "|         US|   16794688|R15LYP3O51UU9E|B00N1F0BKK|     210426072|         Pain Killer|           Music|          5|            0|          0|   N|                Y|          Five Stars|Purchased as a gi...| 2015-08-31|\n",
            "|         US|   32203364|R1AD7L0CC3DSRI|B00V7KAO7Q|     360249504|A Thoughtiverse U...|           Music|          5|            0|          0|   N|                Y|Definitely worth ...|Really enjoyed th...| 2015-08-31|\n",
            "|         US|    1194276|R32FE8Y45QV434|B000094Q4P|      20972283|Comfort of Her Wings|           Music|          5|            0|          0|   N|                Y|          Five Stars|            Great CD| 2015-08-31|\n",
            "|         US|   45813052|R3NM4MZ4XWL43Q|B00JMK0P1I|     378049560|Sleep Soundly CD ...|           Music|          5|            1|          2|   N|                Y|          Five Stars|       Excellent CD!| 2015-08-31|\n",
            "|         US|   12795687|R3H4FXX6Q7I37D|B008OW1S3O|     141620702|     An Awesome Wave|           Music|          4|            0|          0|   N|                Y|          Four Stars|                nice| 2015-08-31|\n",
            "|         US|   36673840|R30L5PET7LFFDC|B00VI2L3L4|     920557135|          Blurryface|           Music|          5|            1|          1|   N|                Y|        Outstanding!|Outstanding music...| 2015-08-31|\n",
            "|         US|   49453576|  REFRE1LEKLAF|B0000041EV|     683128964|Mozart For Mother...|           Music|          4|            1|          1|   N|                Y|          Four Stars|      quite relaxing| 2015-08-31|\n",
            "|         US|    3285047|R3JTJ5EQN74E9H|B00005YW4H|     268461622|   Come Away with Me|           Music|          5|            0|          0|   N|                Y|          Five Stars|I love this CD.  ...| 2015-08-31|\n",
            "|         US|   24471201|R1W2F091LCOAW5|B00Q9KEZV0|     444090572| Tomorrow Is My Turn|           Music|          5|            0|          0|   N|                Y|FIve Stars and Th...|Rhiannon Giddens ...| 2015-08-31|\n",
            "|         US|   28049396| RYUMFQRRB1FNM|B00GFXRKHW|     482597726|       The Outsiders|           Music|          3|            0|          0|   N|                Y|         Three Stars|Wrecking Ball is ...| 2015-08-31|\n",
            "|         US|   41137196| RHCS6VVXWV3Q3|B004L3AQ10|     609457123|  The Lincoln Lawyer|           Music|          5|            0|          0|   N|                Y|          Five Stars|I was pleased wit...| 2015-08-31|\n",
            "|         US|   43305401|R35UL1YZ2142SL|B0000025PM|     125399885|Bach: Goldberg Va...|           Music|          5|            0|          0|   N|                Y|   The Creative Flow|The music that in...| 2015-08-31|\n",
            "|         US|   50808489|  RU1O6QD1LEBB|B00701QUN8|     144457491|Quiet Riot - Grea...|           Music|          5|            0|          0|   N|                Y|          Five Stars|   Excellent CD&#62;| 2015-08-31|\n",
            "|         US|   15536614|R36RXVL3XIZFH7|B003UJC2QI|     207971309|Love Or Money/Lov...|           Music|          5|            0|          0|   N|                N|    Great Pop Single|Love Or Money by ...| 2015-08-31|\n",
            "|         US|   32536909|R16O7SHYHLEYA1|B00LGA16J2|     760666287|Jonas Kaufmann - ...|           Music|          5|            0|          0|   N|                Y|          Five Stars|      Just splendid!| 2015-08-31|\n",
            "|         US|   51160312|R1Y5GX65Z2V9BG|B00ZGVMLLE|      37408836|        Clockworking|           Music|          5|            0|          0|   N|                N|Glorious Glorious...|One of my favorit...| 2015-08-31|\n",
            "+-----------+-----------+--------------+----------+--------------+--------------------+----------------+-----------+-------------+-----------+----+-----------------+--------------------+--------------------+-----------+\n",
            "only showing top 20 rows\n",
            "\n"
          ],
          "name": "stdout"
        }
      ]
    },
    {
      "cell_type": "code",
      "metadata": {
        "colab": {
          "base_uri": "https://localhost:8080/"
        },
        "id": "FCpTHEtIQ2PD",
        "outputId": "d8d5b3a6-c784-4405-cb03-f6f09a81d8d6"
      },
      "source": [
        "# Create the vine_table. DataFrame\n",
        "vine_df = df.select([\"review_id\", \"star_rating\", \"helpful_votes\", \"total_votes\", \"vine\", \"verified_purchase\"])\n",
        "vine_df.show()"
      ],
      "execution_count": 5,
      "outputs": [
        {
          "output_type": "stream",
          "text": [
            "+--------------+-----------+-------------+-----------+----+-----------------+\n",
            "|     review_id|star_rating|helpful_votes|total_votes|vine|verified_purchase|\n",
            "+--------------+-----------+-------------+-----------+----+-----------------+\n",
            "|R3LI5TRP3YIDQL|          5|            0|          0|   N|                Y|\n",
            "|R3LGC3EKEG84PX|          5|            0|          0|   N|                Y|\n",
            "| R9PYL3OYH55QY|          5|            0|          1|   N|                Y|\n",
            "|R3PWBAWUS4NT0Q|          3|            0|          0|   N|                Y|\n",
            "|R15LYP3O51UU9E|          5|            0|          0|   N|                Y|\n",
            "|R1AD7L0CC3DSRI|          5|            0|          0|   N|                Y|\n",
            "|R32FE8Y45QV434|          5|            0|          0|   N|                Y|\n",
            "|R3NM4MZ4XWL43Q|          5|            1|          2|   N|                Y|\n",
            "|R3H4FXX6Q7I37D|          4|            0|          0|   N|                Y|\n",
            "|R30L5PET7LFFDC|          5|            1|          1|   N|                Y|\n",
            "|  REFRE1LEKLAF|          4|            1|          1|   N|                Y|\n",
            "|R3JTJ5EQN74E9H|          5|            0|          0|   N|                Y|\n",
            "|R1W2F091LCOAW5|          5|            0|          0|   N|                Y|\n",
            "| RYUMFQRRB1FNM|          3|            0|          0|   N|                Y|\n",
            "| RHCS6VVXWV3Q3|          5|            0|          0|   N|                Y|\n",
            "|R35UL1YZ2142SL|          5|            0|          0|   N|                Y|\n",
            "|  RU1O6QD1LEBB|          5|            0|          0|   N|                Y|\n",
            "|R36RXVL3XIZFH7|          5|            0|          0|   N|                N|\n",
            "|R16O7SHYHLEYA1|          5|            0|          0|   N|                Y|\n",
            "|R1Y5GX65Z2V9BG|          5|            0|          0|   N|                N|\n",
            "+--------------+-----------+-------------+-----------+----+-----------------+\n",
            "only showing top 20 rows\n",
            "\n"
          ],
          "name": "stdout"
        }
      ]
    },
    {
      "cell_type": "code",
      "metadata": {
        "id": "NY2hhnyyS9x4"
      },
      "source": [
        "filtered_vine_df = spark.createDataFrame(vine_df.filter(vine_df.total_votes >= 20).collect())"
      ],
      "execution_count": 7,
      "outputs": []
    },
    {
      "cell_type": "code",
      "metadata": {
        "colab": {
          "base_uri": "https://localhost:8080/"
        },
        "id": "0xtRbMCAT4fa",
        "outputId": "ee52cf4a-219f-4395-d498-3a2963de07f5"
      },
      "source": [
        "filtered_vine_df.show()"
      ],
      "execution_count": 8,
      "outputs": [
        {
          "output_type": "stream",
          "text": [
            "+--------------+-----------+-------------+-----------+----+-----------------+\n",
            "|     review_id|star_rating|helpful_votes|total_votes|vine|verified_purchase|\n",
            "+--------------+-----------+-------------+-----------+----+-----------------+\n",
            "|R2SHXRL6SL1GC9|          3|           25|         26|   N|                Y|\n",
            "|R2ZC033X86YOY8|          5|           25|         26|   N|                N|\n",
            "|R2736RJGCOSL80|          5|           19|         20|   N|                Y|\n",
            "| RRY5DJ6J9BKAX|          5|           19|         21|   N|                Y|\n",
            "|R2P4PJJ2ROTPBM|          5|           46|         48|   N|                N|\n",
            "| RO8RAEGB66BKR|          4|           46|         46|   N|                N|\n",
            "| RRFZ7QZTRJC59|          5|          292|        300|   N|                N|\n",
            "| RFN4PNRUD1UW2|          4|           21|         22|   N|                N|\n",
            "| RO7EBJEP7IHIX|          5|           26|         26|   N|                N|\n",
            "|R1CVS4MK9RTNNP|          2|           11|         22|   N|                N|\n",
            "| REIWYIGFMEKEV|          5|           26|         30|   N|                Y|\n",
            "|R2FV27WWRWROZU|          4|           26|         27|   N|                N|\n",
            "|R30I82JFOSSJMA|          3|           14|         20|   N|                Y|\n",
            "|R2FUEC06SD2TZ1|          1|            2|         24|   N|                Y|\n",
            "|R16QHOYRY9QLQU|          5|           36|         39|   N|                N|\n",
            "|R1CQON45M11K9Q|          5|          125|        131|   N|                Y|\n",
            "|R1WYWVRXAGND36|          5|           24|         25|   N|                N|\n",
            "| R6RZ581R948P7|          1|           29|         42|   N|                Y|\n",
            "| RBRZ21U9GFORT|          5|           28|         33|   N|                N|\n",
            "|R2Y6OCM9IEH9QO|          1|           12|         21|   N|                N|\n",
            "+--------------+-----------+-------------+-----------+----+-----------------+\n",
            "only showing top 20 rows\n",
            "\n"
          ],
          "name": "stdout"
        }
      ]
    },
    {
      "cell_type": "code",
      "metadata": {
        "id": "3iTxCd4qUJS_"
      },
      "source": [
        "vine_votes_df = spark.createDataFrame(filtered_vine_df.filter(filtered_vine_df.helpful_votes/filtered_vine_df.total_votes >= 0.5).collect())"
      ],
      "execution_count": 18,
      "outputs": []
    },
    {
      "cell_type": "code",
      "metadata": {
        "colab": {
          "base_uri": "https://localhost:8080/"
        },
        "id": "ezFxBGJtVNG6",
        "outputId": "3fb2942f-e264-453e-b3d1-1b22bd7101d2"
      },
      "source": [
        "vine_votes_df.show()"
      ],
      "execution_count": 19,
      "outputs": [
        {
          "output_type": "stream",
          "text": [
            "+--------------+-----------+-------------+-----------+----+-----------------+\n",
            "|     review_id|star_rating|helpful_votes|total_votes|vine|verified_purchase|\n",
            "+--------------+-----------+-------------+-----------+----+-----------------+\n",
            "|R2SHXRL6SL1GC9|          3|           25|         26|   N|                Y|\n",
            "|R2ZC033X86YOY8|          5|           25|         26|   N|                N|\n",
            "|R2736RJGCOSL80|          5|           19|         20|   N|                Y|\n",
            "| RRY5DJ6J9BKAX|          5|           19|         21|   N|                Y|\n",
            "|R2P4PJJ2ROTPBM|          5|           46|         48|   N|                N|\n",
            "| RO8RAEGB66BKR|          4|           46|         46|   N|                N|\n",
            "| RRFZ7QZTRJC59|          5|          292|        300|   N|                N|\n",
            "| RFN4PNRUD1UW2|          4|           21|         22|   N|                N|\n",
            "| RO7EBJEP7IHIX|          5|           26|         26|   N|                N|\n",
            "|R1CVS4MK9RTNNP|          2|           11|         22|   N|                N|\n",
            "| REIWYIGFMEKEV|          5|           26|         30|   N|                Y|\n",
            "|R2FV27WWRWROZU|          4|           26|         27|   N|                N|\n",
            "|R30I82JFOSSJMA|          3|           14|         20|   N|                Y|\n",
            "|R16QHOYRY9QLQU|          5|           36|         39|   N|                N|\n",
            "|R1CQON45M11K9Q|          5|          125|        131|   N|                Y|\n",
            "|R1WYWVRXAGND36|          5|           24|         25|   N|                N|\n",
            "| R6RZ581R948P7|          1|           29|         42|   N|                Y|\n",
            "| RBRZ21U9GFORT|          5|           28|         33|   N|                N|\n",
            "|R2Y6OCM9IEH9QO|          1|           12|         21|   N|                N|\n",
            "|R26I5D95TEK226|          5|           52|         56|   N|                N|\n",
            "+--------------+-----------+-------------+-----------+----+-----------------+\n",
            "only showing top 20 rows\n",
            "\n"
          ],
          "name": "stdout"
        }
      ]
    },
    {
      "cell_type": "code",
      "metadata": {
        "colab": {
          "base_uri": "https://localhost:8080/"
        },
        "id": "BJykUij3Y-od",
        "outputId": "78608cb6-4023-45dc-924f-819d0439ff5c"
      },
      "source": [
        "vine_yes_df = spark.createDataFrame(vine_votes_df.filter(vine_votes_df.vine == \"Y\").collect())\n",
        "vine_yes_df.show()"
      ],
      "execution_count": 21,
      "outputs": [
        {
          "output_type": "stream",
          "text": [
            "+--------------+-----------+-------------+-----------+----+-----------------+\n",
            "|     review_id|star_rating|helpful_votes|total_votes|vine|verified_purchase|\n",
            "+--------------+-----------+-------------+-----------+----+-----------------+\n",
            "| R84VUCDBCI29U|          3|           18|         28|   Y|                N|\n",
            "| R4V3ICFDTIDIF|          4|           20|         21|   Y|                N|\n",
            "|R1JZ0JAPW83WFS|          4|           54|         58|   Y|                N|\n",
            "|R1XH7EA97FAVP7|          3|           35|         44|   Y|                N|\n",
            "|R1482JAU1ZR7QH|          4|           15|         22|   Y|                N|\n",
            "|R1GGYGVTHP84DG|          4|           25|         27|   Y|                N|\n",
            "| RXGU9DSKZJSP0|          3|           21|         22|   Y|                N|\n",
            "+--------------+-----------+-------------+-----------+----+-----------------+\n",
            "\n"
          ],
          "name": "stdout"
        }
      ]
    },
    {
      "cell_type": "code",
      "metadata": {
        "colab": {
          "base_uri": "https://localhost:8080/"
        },
        "id": "a0bjOarhZoMT",
        "outputId": "73f8995d-d693-472a-e7ef-d9701cb6a62d"
      },
      "source": [
        "vine_no_df = spark.createDataFrame(vine_votes_df.filter(vine_votes_df.vine == \"N\").collect())\n",
        "vine_no_df.show()"
      ],
      "execution_count": 23,
      "outputs": [
        {
          "output_type": "stream",
          "text": [
            "+--------------+-----------+-------------+-----------+----+-----------------+\n",
            "|     review_id|star_rating|helpful_votes|total_votes|vine|verified_purchase|\n",
            "+--------------+-----------+-------------+-----------+----+-----------------+\n",
            "|R2SHXRL6SL1GC9|          3|           25|         26|   N|                Y|\n",
            "|R2ZC033X86YOY8|          5|           25|         26|   N|                N|\n",
            "|R2736RJGCOSL80|          5|           19|         20|   N|                Y|\n",
            "| RRY5DJ6J9BKAX|          5|           19|         21|   N|                Y|\n",
            "|R2P4PJJ2ROTPBM|          5|           46|         48|   N|                N|\n",
            "| RO8RAEGB66BKR|          4|           46|         46|   N|                N|\n",
            "| RRFZ7QZTRJC59|          5|          292|        300|   N|                N|\n",
            "| RFN4PNRUD1UW2|          4|           21|         22|   N|                N|\n",
            "| RO7EBJEP7IHIX|          5|           26|         26|   N|                N|\n",
            "|R1CVS4MK9RTNNP|          2|           11|         22|   N|                N|\n",
            "| REIWYIGFMEKEV|          5|           26|         30|   N|                Y|\n",
            "|R2FV27WWRWROZU|          4|           26|         27|   N|                N|\n",
            "|R30I82JFOSSJMA|          3|           14|         20|   N|                Y|\n",
            "|R16QHOYRY9QLQU|          5|           36|         39|   N|                N|\n",
            "|R1CQON45M11K9Q|          5|          125|        131|   N|                Y|\n",
            "|R1WYWVRXAGND36|          5|           24|         25|   N|                N|\n",
            "| R6RZ581R948P7|          1|           29|         42|   N|                Y|\n",
            "| RBRZ21U9GFORT|          5|           28|         33|   N|                N|\n",
            "|R2Y6OCM9IEH9QO|          1|           12|         21|   N|                N|\n",
            "|R26I5D95TEK226|          5|           52|         56|   N|                N|\n",
            "+--------------+-----------+-------------+-----------+----+-----------------+\n",
            "only showing top 20 rows\n",
            "\n"
          ],
          "name": "stdout"
        }
      ]
    },
    {
      "cell_type": "code",
      "metadata": {
        "colab": {
          "base_uri": "https://localhost:8080/"
        },
        "id": "xIJpYWDpZ3q-",
        "outputId": "7fdbab99-844c-4767-ae10-6a878c72233d"
      },
      "source": [
        "total_vine_yes = vine_yes_df.count()\n",
        "total_vine_yes"
      ],
      "execution_count": 27,
      "outputs": [
        {
          "output_type": "execute_result",
          "data": {
            "text/plain": [
              "7"
            ]
          },
          "metadata": {
            "tags": []
          },
          "execution_count": 27
        }
      ]
    },
    {
      "cell_type": "code",
      "metadata": {
        "colab": {
          "base_uri": "https://localhost:8080/"
        },
        "id": "ZYq3puGfccnf",
        "outputId": "f6e8f9e7-ac17-4b71-f519-e36b74fb16b2"
      },
      "source": [
        "vine_yes_5star = vine_yes_df.filter(vine_yes_df.star_rating == 5).count()\n",
        "vine_yes_5star"
      ],
      "execution_count": 31,
      "outputs": [
        {
          "output_type": "execute_result",
          "data": {
            "text/plain": [
              "0"
            ]
          },
          "metadata": {
            "tags": []
          },
          "execution_count": 31
        }
      ]
    },
    {
      "cell_type": "code",
      "metadata": {
        "colab": {
          "base_uri": "https://localhost:8080/"
        },
        "id": "pZW9S9ZmasWQ",
        "outputId": "3ff9ed8e-ec73-4ec0-93f6-3cfa2d371b0b"
      },
      "source": [
        "total_vine_no = vine_no_df.count()\n",
        "total_vine_no"
      ],
      "execution_count": 28,
      "outputs": [
        {
          "output_type": "execute_result",
          "data": {
            "text/plain": [
              "105979"
            ]
          },
          "metadata": {
            "tags": []
          },
          "execution_count": 28
        }
      ]
    },
    {
      "cell_type": "code",
      "metadata": {
        "colab": {
          "base_uri": "https://localhost:8080/"
        },
        "id": "be_1CySscCro",
        "outputId": "502092cb-a46d-4bf0-b9bf-1c7932b8afc5"
      },
      "source": [
        "vine_no_5star = vine_no_df.filter(vine_no_df.star_rating == 5).count()\n",
        "vine_no_5star"
      ],
      "execution_count": 32,
      "outputs": [
        {
          "output_type": "execute_result",
          "data": {
            "text/plain": [
              "67580"
            ]
          },
          "metadata": {
            "tags": []
          },
          "execution_count": 32
        }
      ]
    },
    {
      "cell_type": "code",
      "metadata": {
        "colab": {
          "base_uri": "https://localhost:8080/"
        },
        "id": "aVGBsnPSdc6S",
        "outputId": "47d2d131-ddd9-4dec-da24-d45258cf25f3"
      },
      "source": [
        "vine_no_5star_percentage = (vine_no_5star/total_vine_no)*100\n",
        "vine_no_5star_percentage"
      ],
      "execution_count": 33,
      "outputs": [
        {
          "output_type": "execute_result",
          "data": {
            "text/plain": [
              "63.767350135404186"
            ]
          },
          "metadata": {
            "tags": []
          },
          "execution_count": 33
        }
      ]
    },
    {
      "cell_type": "code",
      "metadata": {
        "colab": {
          "base_uri": "https://localhost:8080/"
        },
        "id": "h0cHsZ8PdzdL",
        "outputId": "6505f35e-2530-4eac-f53f-0576a2546de5"
      },
      "source": [
        "vine_yes_5star_percentage = (vine_yes_5star/total_vine_yes) * 100\n",
        "vine_yes_5star_percentage"
      ],
      "execution_count": 34,
      "outputs": [
        {
          "output_type": "execute_result",
          "data": {
            "text/plain": [
              "0.0"
            ]
          },
          "metadata": {
            "tags": []
          },
          "execution_count": 34
        }
      ]
    },
    {
      "cell_type": "code",
      "metadata": {
        "id": "RegrRnsnd-1v"
      },
      "source": [
        ""
      ],
      "execution_count": null,
      "outputs": []
    }
  ]
}